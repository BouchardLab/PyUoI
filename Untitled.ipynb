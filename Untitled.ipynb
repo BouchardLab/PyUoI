{
 "cells": [
  {
   "cell_type": "code",
   "execution_count": 1,
   "metadata": {},
   "outputs": [],
   "source": [
    "import numpy as np\n",
    "import matplotlib.pyplot as plt\n",
    "%matplotlib inline\n",
    "\n",
    "from sklearn.datasets import make_regression\n",
    "from sklearn.linear_model.base import _preprocess_data\n",
    "\n",
    "from PyUoI.UoI_Lasso import UoI_Lasso"
   ]
  },
  {
   "cell_type": "code",
   "execution_count": 23,
   "metadata": {},
   "outputs": [],
   "source": [
    "n_samples = 1000\n",
    "n_features = 100\n",
    "n_informative = 50\n",
    "\n",
    "X = np.random.normal(loc=0, scale=)"
   ]
  },
  {
   "cell_type": "code",
   "execution_count": 57,
   "metadata": {},
   "outputs": [],
   "source": [
    "uoi = UoI_Lasso(\n",
    "    n_lambdas=24,\n",
    "    selection_thres_min=0.1,\n",
    "    n_selection_thres=50,\n",
    "    n_boots_sel=60,\n",
    "    n_boots_est=48,\n",
    "    normalize=True,\n",
    "    estimation_score='BIC'\n",
    ")"
   ]
  },
  {
   "cell_type": "code",
   "execution_count": 58,
   "metadata": {},
   "outputs": [
    {
     "data": {
      "text/plain": [
       "UoI_Lasso(bagging_options=1, copy_X=True, estimation_score='BIC',\n",
       "     fit_intercept=True, n_boots_coarse=10, n_boots_est=48, n_boots_sel=60,\n",
       "     n_lambdas=24, n_selection_thres=50, normalize=True,\n",
       "     selection_thres_max=1.0, selection_thres_min=0.1, train_frac_est=0.8,\n",
       "     train_frac_overall=0.9, train_frac_sel=0.8, use_admm=False)"
      ]
     },
     "execution_count": 58,
     "metadata": {},
     "output_type": "execute_result"
    }
   ],
   "source": [
    "uoi.fit(X, y)"
   ]
  },
  {
   "cell_type": "code",
   "execution_count": 59,
   "metadata": {},
   "outputs": [
    {
     "name": "stdout",
     "output_type": "stream",
     "text": [
      "False positives: 65\n",
      "False negatives: 0\n"
     ]
    },
    {
     "data": {
      "image/png": "[encoded data removed]",
      "text/plain": [
       "<Figure size 432x288 with 1 Axes>"
      ]
     },
     "metadata": {},
     "output_type": "display_data"
    }
   ],
   "source": [
    "plt.scatter(coef, uoi.coef_)\n",
    "plt.plot(plt.gca().get_xlim(), plt.gca().get_xlim())\n",
    "\n",
    "print('False positives: %s' %np.count_nonzero(uoi.coef_[coef == 0]))\n",
    "print('False negatives: %s' %np.count_nonzero(coef[uoi.coef_ == 0]))"
   ]
  },
  {
   "cell_type": "code",
   "execution_count": 30,
   "metadata": {},
   "outputs": [
    {
     "data": {
      "text/plain": [
       "array([ 0.        , 23.11036394,  0.        ,  0.        ,  0.        ,\n",
       "        0.        ,  0.        ,  0.        ,  0.        ,  0.        ,\n",
       "        0.        ,  0.        ,  0.        ,  0.        ,  0.        ,\n",
       "        0.        ,  0.        ,  0.        ,  0.        , 10.66650492,\n",
       "        0.        ,  0.        ,  0.        ,  0.        ,  0.        ,\n",
       "        0.        ,  0.        ,  0.        ,  0.        ,  0.        ,\n",
       "        0.        ,  9.07655229,  0.        , 76.42364257,  0.        ,\n",
       "       72.83584274, 91.39247891,  0.        , 61.23272087,  0.        ,\n",
       "        0.        , 72.28044527,  8.68212053,  0.        ,  0.        ,\n",
       "       34.82891797,  0.        ,  0.        , 95.55428502,  0.        ,\n",
       "        0.        ,  0.        ,  6.31952494,  0.        ,  0.        ,\n",
       "       77.28281859,  0.        , 53.05883153,  0.        ,  0.        ,\n",
       "        0.        ,  0.        ,  0.        ,  0.        , 78.40474108,\n",
       "        0.        , 66.33074158,  0.        ,  0.        , 66.12734026,\n",
       "        0.        , 80.92642671, 75.60040622,  0.        , 32.37720467,\n",
       "        0.        ,  0.        ,  0.        ,  0.        ,  0.        ,\n",
       "        0.        ,  0.        , 15.59649048,  0.        ,  0.        ,\n",
       "        0.        ,  0.        , 60.52796987,  0.        , 96.30486263,\n",
       "       40.89132633,  0.        ,  0.        ,  0.        ,  0.        ,\n",
       "        0.        ,  0.        ,  0.        ,  0.        , 93.21725208])"
      ]
     },
     "execution_count": 30,
     "metadata": {},
     "output_type": "execute_result"
    }
   ],
   "source": [
    "coef"
   ]
  },
  {
   "cell_type": "code",
   "execution_count": 66,
   "metadata": {},
   "outputs": [],
   "source": [
    "ruff = np.random.randint(low=1, high=10, size=(10, 2))"
   ]
  },
  {
   "cell_type": "code",
   "execution_count": 67,
   "metadata": {},
   "outputs": [
    {
     "data": {
      "text/plain": [
       "array([[ 17,  34,  35,  13,  37,  33,  21,  31,  18,  44],\n",
       "       [ 34,  85,  91,  44,  86,  62,  58,  84,  57, 111],\n",
       "       [ 35,  91,  98,  49,  91,  63,  63,  91,  63, 119],\n",
       "       [ 13,  44,  49,  29,  41,  21,  33,  47,  36,  58],\n",
       "       [ 37,  86,  91,  41,  89,  69,  57,  83,  54, 112],\n",
       "       [ 33,  62,  63,  21,  69,  65,  37,  55,  30,  80],\n",
       "       [ 21,  58,  63,  33,  57,  37,  41,  59,  42,  76],\n",
       "       [ 31,  84,  91,  47,  83,  55,  59,  85,  60, 110],\n",
       "       [ 18,  57,  63,  36,  54,  30,  42,  60,  45,  75],\n",
       "       [ 44, 111, 119,  58, 112,  80,  76, 110,  75, 145]])"
      ]
     },
     "execution_count": 67,
     "metadata": {},
     "output_type": "execute_result"
    }
   ],
   "source": [
    "ruff @ ruff.T"
   ]
  },
  {
   "cell_type": "code",
   "execution_count": null,
   "metadata": {},
   "outputs": [],
   "source": []
  }
 ],
 "metadata": {
  "kernelspec": {
   "display_name": "Python 3",
   "language": "python",
   "name": "python3"
  },
  "language_info": {
   "codemirror_mode": {
    "name": "ipython",
    "version": 3
   },
   "file_extension": ".py",
   "mimetype": "text/x-python",
   "name": "python",
   "nbconvert_exporter": "python",
   "pygments_lexer": "ipython3",
   "version": "3.6.5"
  }
 },
 "nbformat": 4,
 "nbformat_minor": 2
}
