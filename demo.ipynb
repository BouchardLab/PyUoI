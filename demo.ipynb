{
 "cells": [
  {
   "cell_type": "code",
   "execution_count": 1,
   "metadata": {},
   "outputs": [],
   "source": [
    "from PyUoI.UoI_Lasso import UoI_Lasso\n",
    "import matplotlib.pyplot as plt\n",
    "from matplotlib import rc\n",
    "%matplotlib inline\n",
    "rc('text', usetex = True)\n",
    "rc('font',**{'family' : 'serif', 'serif' : ['Computer Modern Roman']})\n",
    "plt.style.use('ggplot')\n",
    "import numpy as np"
   ]
  },
  {
   "cell_type": "code",
   "execution_count": null,
   "metadata": {
    "collapsed": true
   },
   "outputs": [],
   "source": [
    "def fit_metrics(estimate, true):\n",
    "    false_positive = np.count_nonzero(estimate[true == 0])\n",
    "    false_negative = np.count_nonzero(true[estimate == 0])\n",
    "    bias = estimate - true\n",
    "    \n",
    "    # plot\n",
    "    fig, ax = plt.subplots()\n",
    "    ax.scatter(true, estimate)\n",
    "    ax.plot(ax.get_xlim(), ax.get_xlim(), linewidth = 3)\n",
    "    ax.set_xlabel('True', fontsize = 25)\n",
    "    ax.set_ylabel('Estimates', fontsize = 25)\n",
    "    return false_positive, false_negative, bias"
   ]
  },
  {
   "cell_type": "code",
   "execution_count": 10,
   "metadata": {
    "collapsed": true
   },
   "outputs": [],
   "source": [
    "def basic_test(n_features=10, n_samples=50, noise_scale=0.5, sparsity=1.):\n",
    "    # calculate number of nonzero parameters\n",
    "    num_nonzero = int(sparsity * n_features)\n",
    "    # create design matrix\n",
    "    X = np.random.normal(size=(n_samples, n_features))\n",
    "    # choose model parameters\n",
    "    beta = np.zeros(shape=(n_features, 1))\n",
    "    nonzero_idx = np.random.choice(np.arange(n_features), num_nonzero, replace=True)\n",
    "    beta[nonzero_idx, 0] = np.random.laplace(size=(num_nonzero))\n",
    "    # choose noise\n",
    "    noise = np.random.normal(scale=noise_scale, size=(n_samples, 1))\n",
    "    # generate output\n",
    "    y = np.dot(X, beta) + noise\n",
    "    # run UoI Lasso\n",
    "    uoi = UoI_Lasso()\n",
    "    uoi.fit(X, y)\n",
    "    # compute metrics\n",
    "    fp, fn, bias = fit_metrics(uoi.coef_, beta.ravel())\n",
    "    print('False Positives: ', fp)\n",
    "    print('False Negatives: ', fn)\n",
    "    plt.show()\n",
    "    return"
   ]
  },
  {
   "cell_type": "code",
   "execution_count": 11,
   "metadata": {},
   "outputs": [
    {
     "name": "stdout",
     "output_type": "stream",
     "text": [
      "False Positives:  0\n",
      "False Negatives:  1\n"
     ]
    },
    {
     "data": {
      "image/png": "[encoded data removed]",
      "text/plain": [
       "<matplotlib.figure.Figure at 0x10c433f28>"
      ]
     },
     "metadata": {},
     "output_type": "display_data"
    }
   ],
   "source": [
    "basic_test()"
   ]
  },
  {
   "cell_type": "code",
   "execution_count": null,
   "metadata": {
    "collapsed": true
   },
   "outputs": [],
   "source": []
  }
 ],
 "metadata": {
  "kernelspec": {
   "display_name": "Python 3",
   "language": "python",
   "name": "python3"
  },
  "language_info": {
   "codemirror_mode": {
    "name": "ipython",
    "version": 3
   },
   "file_extension": ".py",
   "mimetype": "text/x-python",
   "name": "python",
   "nbconvert_exporter": "python",
   "pygments_lexer": "ipython3",
   "version": "3.6.2"
  }
 },
 "nbformat": 4,
 "nbformat_minor": 2
}
